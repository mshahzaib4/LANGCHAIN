{
 "cells": [
  {
   "cell_type": "code",
   "execution_count": null,
   "id": "4fee3ce4",
   "metadata": {},
   "outputs": [],
   "source": [
    "!pip install langchain chromadb openai tiktoken pypdf langchain_openai langchain-community"
   ]
  },
  {
   "cell_type": "code",
   "execution_count": 7,
   "id": "3cba2fcd",
   "metadata": {},
   "outputs": [
    {
     "data": {
      "text/plain": [
       "True"
      ]
     },
     "execution_count": 7,
     "metadata": {},
     "output_type": "execute_result"
    }
   ],
   "source": [
    "from langchain_openai import OpenAIEmbeddings\n",
    "from langchain.vectorstores import Chroma\n",
    "from dotenv import load_dotenv\n",
    "load_dotenv()"
   ]
  },
  {
   "cell_type": "code",
   "execution_count": 5,
   "id": "f1328562",
   "metadata": {},
   "outputs": [],
   "source": [
    "from langchain.schema import Document\n",
    "\n",
    "# Create LangChain documents for IPL players\n",
    "\n",
    "doc1 = Document(\n",
    "    page_content=\"Babar Azam is one of the most stylish and consistent batsmen in modern cricket. Known for his elegant stroke play, he has captained the Pakistan national team across formats.\",\n",
    "    metadata={\"team\": \"Pakistan\"}\n",
    "    )\n",
    "doc2 = Document(\n",
    "    page_content=\"Shaheen Afridi is a left-arm fast bowler renowned for his pace and ability to swing the ball. He played a crucial role in Pakistan's victories with his early breakthroughs.\",\n",
    "    metadata={\"team\": \"Pakistan\"}\n",
    "    )\n",
    "doc3 = Document(\n",
    "    page_content=\"Mohammad Rizwan is a dynamic wicketkeeper-batsman, celebrated for his resilience and match-winning performances in T20 cricket.\",\n",
    "    metadata={\"team\": \"Pakistan\"}\n",
    "    )\n",
    "doc4 = Document(\n",
    "    page_content=\"Shadab Khan is a talented all-rounder, known for his leg-spin bowling and aggressive batting in the lower order.\",\n",
    "    metadata={\"team\": \"Pakistan\"}\n",
    "    )\n",
    "doc5 = Document(\n",
    "    page_content=\"Fakhar Zaman is an explosive opening batsman, famous for his attacking style and memorable innings in major tournaments.\",\n",
    "    metadata={\"team\": \"Pakistan\"}\n",
    "    )"
   ]
  },
  {
   "cell_type": "code",
   "execution_count": 8,
   "id": "645d0920",
   "metadata": {},
   "outputs": [
    {
     "name": "stderr",
     "output_type": "stream",
     "text": [
      "C:\\Users\\zohaib malik\\AppData\\Local\\Temp\\ipykernel_11140\\2656567153.py:2: LangChainDeprecationWarning: The class `Chroma` was deprecated in LangChain 0.2.9 and will be removed in 1.0. An updated version of the class exists in the :class:`~langchain-chroma package and should be used instead. To use it run `pip install -U :class:`~langchain-chroma` and import as `from :class:`~langchain_chroma import Chroma``.\n",
      "  vector_store = Chroma(\n"
     ]
    }
   ],
   "source": [
    "docs = [doc1, doc2, doc3, doc4, doc5]\n",
    "vector_store = Chroma(\n",
    "    embedding_function=OpenAIEmbeddings(),\n",
    "    persist_directory='my_chroma_db',\n",
    "    collection_name='sample'\n",
    ")"
   ]
  },
  {
   "cell_type": "code",
   "execution_count": 9,
   "id": "7af19c4f",
   "metadata": {},
   "outputs": [
    {
     "data": {
      "text/plain": [
       "['f40ce95b-efca-4cc1-9e26-6c88ee7eaa68',\n",
       " '51ea4528-b1be-419d-8e2c-f6b23972cf25',\n",
       " '559977a6-37af-4efd-ae30-4222134b69e8',\n",
       " '2f210312-7357-4c18-a590-dfbbbd63839a',\n",
       " '7a687682-5ec1-400b-9916-0cc1f6454ada']"
      ]
     },
     "execution_count": 9,
     "metadata": {},
     "output_type": "execute_result"
    }
   ],
   "source": [
    "vector_store.add_documents(docs)"
   ]
  },
  {
   "cell_type": "code",
   "execution_count": 10,
   "id": "a03ccf07",
   "metadata": {},
   "outputs": [
    {
     "data": {
      "text/plain": [
       "{'ids': ['f40ce95b-efca-4cc1-9e26-6c88ee7eaa68',\n",
       "  '51ea4528-b1be-419d-8e2c-f6b23972cf25',\n",
       "  '559977a6-37af-4efd-ae30-4222134b69e8',\n",
       "  '2f210312-7357-4c18-a590-dfbbbd63839a',\n",
       "  '7a687682-5ec1-400b-9916-0cc1f6454ada'],\n",
       " 'embeddings': array([[-0.02327114, -0.00119755,  0.02120962, ...,  0.01363385,\n",
       "         -0.01178734, -0.01814896],\n",
       "        [-0.02556383,  0.00548072,  0.02125388, ..., -0.00854915,\n",
       "          0.00865851, -0.01228659],\n",
       "        [-0.01774702, -0.01381192,  0.0173952 , ..., -0.00196592,\n",
       "         -0.00032942, -0.00793534],\n",
       "        [-0.01316135, -0.00277692,  0.01109495, ..., -0.00426949,\n",
       "          0.00405331, -0.00760434],\n",
       "        [-0.02365619, -0.00164049,  0.0107621 , ...,  0.0177581 ,\n",
       "          0.00431186, -0.00852159]]),\n",
       " 'documents': ['Babar Azam is one of the most stylish and consistent batsmen in modern cricket. Known for his elegant stroke play, he has captained the Pakistan national team across formats.',\n",
       "  \"Shaheen Afridi is a left-arm fast bowler renowned for his pace and ability to swing the ball. He played a crucial role in Pakistan's victories with his early breakthroughs.\",\n",
       "  'Mohammad Rizwan is a dynamic wicketkeeper-batsman, celebrated for his resilience and match-winning performances in T20 cricket.',\n",
       "  'Shadab Khan is a talented all-rounder, known for his leg-spin bowling and aggressive batting in the lower order.',\n",
       "  'Fakhar Zaman is an explosive opening batsman, famous for his attacking style and memorable innings in major tournaments.'],\n",
       " 'uris': None,\n",
       " 'included': ['embeddings', 'documents', 'metadatas'],\n",
       " 'data': None,\n",
       " 'metadatas': [{'team': 'Pakistan'},\n",
       "  {'team': 'Pakistan'},\n",
       "  {'team': 'Pakistan'},\n",
       "  {'team': 'Pakistan'},\n",
       "  {'team': 'Pakistan'}]}"
      ]
     },
     "execution_count": 10,
     "metadata": {},
     "output_type": "execute_result"
    }
   ],
   "source": [
    "vector_store.get(include=['embeddings','documents', 'metadatas'])"
   ]
  },
  {
   "cell_type": "code",
   "execution_count": 13,
   "metadata": {},
   "outputs": [
    {
     "data": {
      "text/plain": [
       "[Document(metadata={'team': 'Pakistan'}, page_content='Shadab Khan is a talented all-rounder, known for his leg-spin bowling and aggressive batting in the lower order.')]"
      ]
     },
     "execution_count": 13,
     "metadata": {},
     "output_type": "execute_result"
    }
   ],
   "source": [
    "vector_store.similarity_search(\n",
    "    query='Who among these are a bowler?',\n",
    "    k=1\n",
    ")"
   ]
  },
  {
   "cell_type": "code",
   "execution_count": 14,
   "id": "ce6875cb",
   "metadata": {},
   "outputs": [
    {
     "data": {
      "text/plain": [
       "[(Document(metadata={'team': 'Pakistan'}, page_content='Shadab Khan is a talented all-rounder, known for his leg-spin bowling and aggressive batting in the lower order.'),\n",
       "  0.34064406156539917),\n",
       " (Document(metadata={'team': 'Pakistan'}, page_content=\"Shaheen Afridi is a left-arm fast bowler renowned for his pace and ability to swing the ball. He played a crucial role in Pakistan's victories with his early breakthroughs.\"),\n",
       "  0.3779144287109375)]"
      ]
     },
     "execution_count": 14,
     "metadata": {},
     "output_type": "execute_result"
    }
   ],
   "source": [
    "vector_store.similarity_search_with_score(\n",
    "    query='Who among these are a bowler?',\n",
    "    k=2\n",
    ")"
   ]
  },
  {
   "cell_type": "code",
   "execution_count": 15,
   "id": "e7f67ec0",
   "metadata": {},
   "outputs": [],
   "source": [
    "updated_doc1 = Document(\n",
    "    page_content=\"Virat Kohli, the former captain of Royal Challengers Bangalore (RCB), is renowned for his aggressive leadership and consistent batting performances. He holds the record for the most runs in IPL history, including multiple centuries in a single season. Despite RCB not winning an IPL title under his captaincy, Kohli's passion and fitness set a benchmark for the league. His ability to chase targets and anchor innings has made him one of the most dependable players in T20 cricket.\",\n",
    "    metadata={\"team\": \"Royal Challengers Bangalore\"}\n",
    ")\n",
    "\n",
    "vector_store.update_document(document_id='09a39dc6-3ba6-4ea7-927e-fdda591da5e4', document=updated_doc1)"
   ]
  },
  {
   "cell_type": "code",
   "execution_count": 16,
   "id": "e1f973d6",
   "metadata": {},
   "outputs": [],
   "source": [
    "vector_store.delete(ids=['09a39dc6-3ba6-4ea7-927e-fdda591da5e4'])"
   ]
  },
  {
   "cell_type": "code",
   "execution_count": 17,
   "id": "3402653e",
   "metadata": {},
   "outputs": [
    {
     "data": {
      "text/plain": [
       "{'ids': ['f40ce95b-efca-4cc1-9e26-6c88ee7eaa68',\n",
       "  '51ea4528-b1be-419d-8e2c-f6b23972cf25',\n",
       "  '559977a6-37af-4efd-ae30-4222134b69e8',\n",
       "  '2f210312-7357-4c18-a590-dfbbbd63839a',\n",
       "  '7a687682-5ec1-400b-9916-0cc1f6454ada'],\n",
       " 'embeddings': None,\n",
       " 'documents': ['Babar Azam is one of the most stylish and consistent batsmen in modern cricket. Known for his elegant stroke play, he has captained the Pakistan national team across formats.',\n",
       "  \"Shaheen Afridi is a left-arm fast bowler renowned for his pace and ability to swing the ball. He played a crucial role in Pakistan's victories with his early breakthroughs.\",\n",
       "  'Mohammad Rizwan is a dynamic wicketkeeper-batsman, celebrated for his resilience and match-winning performances in T20 cricket.',\n",
       "  'Shadab Khan is a talented all-rounder, known for his leg-spin bowling and aggressive batting in the lower order.',\n",
       "  'Fakhar Zaman is an explosive opening batsman, famous for his attacking style and memorable innings in major tournaments.'],\n",
       " 'uris': None,\n",
       " 'included': ['metadatas', 'documents'],\n",
       " 'data': None,\n",
       " 'metadatas': [{'team': 'Pakistan'},\n",
       "  {'team': 'Pakistan'},\n",
       "  {'team': 'Pakistan'},\n",
       "  {'team': 'Pakistan'},\n",
       "  {'team': 'Pakistan'}]}"
      ]
     },
     "execution_count": 17,
     "metadata": {},
     "output_type": "execute_result"
    }
   ],
   "source": [
    "vector_store.get()"
   ]
  }
 ],
 "metadata": {
  "kernelspec": {
   "display_name": "genai",
   "language": "python",
   "name": "python3"
  },
  "language_info": {
   "codemirror_mode": {
    "name": "ipython",
    "version": 3
   },
   "file_extension": ".py",
   "mimetype": "text/x-python",
   "name": "python",
   "nbconvert_exporter": "python",
   "pygments_lexer": "ipython3",
   "version": "3.9.21"
  }
 },
 "nbformat": 4,
 "nbformat_minor": 5
}
