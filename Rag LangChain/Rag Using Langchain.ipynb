{
 "cells": [
  {
   "cell_type": "code",
   "execution_count": 28,
   "id": "e695f459",
   "metadata": {},
   "outputs": [
    {
     "data": {
      "text/plain": [
       "True"
      ]
     },
     "execution_count": 28,
     "metadata": {},
     "output_type": "execute_result"
    }
   ],
   "source": [
    "from youtube_transcript_api import YouTubeTranscriptApi, TranscriptsDisabled\n",
    "from langchain.text_splitter import RecursiveCharacterTextSplitter\n",
    "from langchain_openai import OpenAIEmbeddings, ChatOpenAI\n",
    "from langchain_community.vectorstores import FAISS\n",
    "from langchain_core.prompts import PromptTemplate\n",
    "from dotenv import load_dotenv\n",
    "load_dotenv()"
   ]
  },
  {
   "cell_type": "code",
   "execution_count": 29,
   "id": "cc103d99",
   "metadata": {},
   "outputs": [
    {
     "name": "stdout",
     "output_type": "stream",
     "text": [
      "An error occurred: no element found: line 1, column 0\n"
     ]
    }
   ],
   "source": [
    "video_id = \"Gfr50f6ZBvo\"  \n",
    "\n",
    "try:\n",
    "    # If you don't care which language, this returns the \"best\" one\n",
    "    transcript_list = YouTubeTranscriptApi.get_transcript(video_id, languages=[\"en\"])\n",
    "\n",
    "    # Flatten it to plain text\n",
    "    transcript = \" \".join(chunk[\"text\"] for chunk in transcript_list)\n",
    "    print(transcript)\n",
    "\n",
    "except Exception as e:\n",
    "    if \"No transcripts were found\" in str(e):\n",
    "        print(\"No captions available for this video.\")\n",
    "    else:\n",
    "        print(f\"An error occurred: {e}\")"
   ]
  },
  {
   "cell_type": "code",
   "execution_count": 30,
   "id": "acaa2bd5",
   "metadata": {},
   "outputs": [
    {
     "ename": "NameError",
     "evalue": "name 'transcript' is not defined",
     "output_type": "error",
     "traceback": [
      "\u001b[1;31m---------------------------------------------------------------------------\u001b[0m",
      "\u001b[1;31mNameError\u001b[0m                                 Traceback (most recent call last)",
      "Cell \u001b[1;32mIn[30], line 2\u001b[0m\n\u001b[0;32m      1\u001b[0m Splitter \u001b[38;5;241m=\u001b[39m RecursiveCharacterTextSplitter(chunk_size \u001b[38;5;241m=\u001b[39m \u001b[38;5;241m1000\u001b[39m, chunk_overlap \u001b[38;5;241m=\u001b[39m \u001b[38;5;241m200\u001b[39m)\n\u001b[1;32m----> 2\u001b[0m chunks \u001b[38;5;241m=\u001b[39m Splitter\u001b[38;5;241m.\u001b[39mcreate_documents([\u001b[43mtranscript\u001b[49m])\n\u001b[0;32m      3\u001b[0m chunks\n",
      "\u001b[1;31mNameError\u001b[0m: name 'transcript' is not defined"
     ]
    }
   ],
   "source": [
    "Splitter = RecursiveCharacterTextSplitter(chunk_size = 1000, chunk_overlap = 200)\n",
    "chunks = Splitter.create_documents([transcript])\n",
    "chunks"
   ]
  },
  {
   "cell_type": "code",
   "execution_count": null,
   "id": "9ecd0e4b",
   "metadata": {},
   "outputs": [
    {
     "data": {
      "text/plain": [
       "168"
      ]
     },
     "execution_count": 4,
     "metadata": {},
     "output_type": "execute_result"
    }
   ],
   "source": [
    "len(chunks)"
   ]
  },
  {
   "cell_type": "code",
   "execution_count": null,
   "id": "e55dbf64",
   "metadata": {},
   "outputs": [],
   "source": [
    "embeddings = OpenAIEmbeddings(model = \"text-embedding-3-small\")\n",
    "vector_store = FAISS.from_documents(chunks, embeddings)"
   ]
  },
  {
   "cell_type": "code",
   "execution_count": null,
   "id": "b76a54ea",
   "metadata": {},
   "outputs": [
    {
     "data": {
      "text/plain": [
       "{0: 'd5fee8f5-8d8c-44dd-b863-7eedb54de945',\n",
       " 1: 'd2ceeac4-2448-47eb-884f-14d8b32090c3',\n",
       " 2: 'c9bc7723-f913-4ac1-813b-dfc51c15923a',\n",
       " 3: '8a831921-2286-48ca-9df0-d1fea8fdfa47',\n",
       " 4: 'f32899ff-87c8-44ff-8c36-4f8240b6c2c3',\n",
       " 5: 'c29b785b-6301-4ae2-ac80-bdf2a8433f40',\n",
       " 6: '04fcc137-0649-452e-af6f-a0ab83a2e0bc',\n",
       " 7: 'a03f87e9-e9ec-455e-b6f5-4a0b94f701e0',\n",
       " 8: '8bb4137e-9624-4193-adfe-9a83fb30be68',\n",
       " 9: 'f779deaf-c72f-4bb4-9d14-668d471aec73',\n",
       " 10: 'd61d9e1e-2dee-4be9-8998-c48446352768',\n",
       " 11: '9c36f053-d30a-46e0-88c1-d8f2570b439f',\n",
       " 12: 'af96f5cc-fa1e-4c0d-bffe-d0726a3aab3f',\n",
       " 13: '7f932be9-cb0f-48c9-82c4-d2764d6454b4',\n",
       " 14: 'b5d1240c-aad5-4023-8874-b5fc99c8367d',\n",
       " 15: '21dec523-739e-4ab0-889b-9e89c9f323df',\n",
       " 16: '85aaa438-67c6-4642-973e-31db873084f2',\n",
       " 17: 'd572d0f3-53f7-4d8f-a3b0-91c063ac99c6',\n",
       " 18: '2f11f1f3-7cea-451e-aff0-bcdd2e100a8e',\n",
       " 19: '1080bdeb-800d-4886-9806-fbb9161fe47c',\n",
       " 20: '9dfd5b13-f3d5-439f-b301-1bb27f4951b3',\n",
       " 21: 'e99f7562-4fe2-42a5-8003-5ffa30aa780b',\n",
       " 22: '32436703-8b17-48e3-ad50-fb1e16be92ab',\n",
       " 23: 'eb0e1e9e-ce3e-438b-8d3b-2b2ac961f4c8',\n",
       " 24: '0ebde7f1-8c7a-4914-9d49-4e1d9457200c',\n",
       " 25: '491314df-cb7f-4593-acdd-d1e79c529b39',\n",
       " 26: 'c3a9d676-ab59-4c94-86cb-e53672d34962',\n",
       " 27: 'd850a3a8-9210-44f4-bc3f-e0900bcb5eb7',\n",
       " 28: '52728314-7b7a-486b-9534-ada4719443de',\n",
       " 29: 'bc6b5fa9-2d2e-41e0-a694-cb3f1e992fd4',\n",
       " 30: '6e159559-766f-4a78-a78e-41eeecec5ffd',\n",
       " 31: 'c9f58a16-6884-4af4-a8b3-e5295500f3f8',\n",
       " 32: '840fd541-ac43-4550-8336-47d7d819225b',\n",
       " 33: '145a0916-5c97-46ce-982e-8985570bcf2a',\n",
       " 34: 'e087758a-9258-4ca3-a52f-3b4557c427b0',\n",
       " 35: '5d282325-f062-427a-89ce-bea4d6fb5fa9',\n",
       " 36: 'db629179-2c84-47f3-a0e7-c1cd59bdb4b9',\n",
       " 37: 'e0bb66f1-30f4-416d-a059-3240c6bad716',\n",
       " 38: '05c49ed7-ea00-4c2a-bcf9-a4b26ef6d633',\n",
       " 39: 'c8791baf-e49c-48e5-8dc9-d020e50974da',\n",
       " 40: '58427e11-d44f-4d6b-baa3-4bfc0dedc016',\n",
       " 41: '3a66cca8-1977-4a13-bd79-bd2bea28d66b',\n",
       " 42: 'cc6dc602-a85e-4443-8709-910416b73979',\n",
       " 43: '8ef64919-baf8-4f41-90df-6b1886c4c332',\n",
       " 44: 'fefd7e12-8923-44d2-9987-18f60411becc',\n",
       " 45: '8feea299-79ee-4542-a757-7712809bd04f',\n",
       " 46: 'daa3751b-9545-4883-a4ab-893d7bf7dda0',\n",
       " 47: '86aa17fe-b6c3-497b-8bdb-1e7af903250a',\n",
       " 48: 'f66b003a-bf81-49db-865e-2dc70e70c5a3',\n",
       " 49: '599ad683-dd6e-49f7-82d9-a2e6b918c0ed',\n",
       " 50: '1ddef8bf-f61e-4503-a414-68cb59f2c9aa',\n",
       " 51: '8fefbbde-ebec-49b8-8768-4e8f41cba302',\n",
       " 52: '220bc88c-872c-4d88-82b8-8316434bac07',\n",
       " 53: '191b94ed-7676-44ad-8237-30a65bd73e58',\n",
       " 54: '5ca81751-6fd2-4358-9c47-3e7febb73b7f',\n",
       " 55: '5f5fe06b-7bcc-4984-804a-b51041c8b9e4',\n",
       " 56: '4148a28a-963f-444d-b423-912e1be5e443',\n",
       " 57: 'eb93b6b2-e8c6-4b0c-91c8-3491676fc712',\n",
       " 58: 'f592ee85-726c-41db-a77c-5bd17cfff2b5',\n",
       " 59: '2339dc1b-5bdb-498d-a298-12f2aaa604c6',\n",
       " 60: '614ac0f2-299c-4e56-ab02-70d4ef14657a',\n",
       " 61: '7c980921-fad0-4b36-bcfe-45362677443a',\n",
       " 62: '605327eb-82ff-4fbd-92fa-5cf695032d8b',\n",
       " 63: '767adc60-ef2d-4967-86b2-00452cf05b37',\n",
       " 64: 'c73dfd12-8b07-408e-8214-14cbc1e32a5c',\n",
       " 65: 'd4ff5b3b-b059-4167-bae5-961c804f58c9',\n",
       " 66: 'd98bbddf-dfdf-4725-98f5-9b27deb83998',\n",
       " 67: '926fc26d-1aad-4bb7-8be3-2b1e4e34e4bc',\n",
       " 68: '204b7a83-abe7-4067-9ad5-853cfe07e245',\n",
       " 69: 'e3ef8ef1-c948-4e74-9947-cc0c22167a56',\n",
       " 70: 'a98ca620-c4d2-4770-bae1-713824612369',\n",
       " 71: '47975589-11de-4119-8842-2536073d1ce1',\n",
       " 72: 'a266113a-32ea-480b-934c-115ff3f97cf2',\n",
       " 73: '7a7283c8-ecfd-4339-bc54-308fed9d3950',\n",
       " 74: 'e1fe484a-c7c4-4d86-9e2c-de40d2d2298c',\n",
       " 75: 'b9b02ea7-df74-4c39-86d0-e79723f95b1d',\n",
       " 76: '12e12216-7972-49d9-ae4b-6ae00a08c82e',\n",
       " 77: '3d6cd765-64cd-4bbe-9814-2d46466ca5e8',\n",
       " 78: 'ca0422d9-5934-439f-ad9f-be0d9f1ffd34',\n",
       " 79: '01fea78e-6c90-40db-901f-8ffe761e2a95',\n",
       " 80: 'f3366d48-bf28-45d8-a58b-09cc356df7ad',\n",
       " 81: '5bed716d-299b-4b0d-b430-5930b6270dc7',\n",
       " 82: '4d24e06f-ddc6-47e7-b8b5-ad206305e239',\n",
       " 83: '3145a425-bef9-44f2-894f-5c3741231bb5',\n",
       " 84: '0495f5d8-2656-499f-b6c3-30f29c620580',\n",
       " 85: '7fbcb855-b5a0-43bd-b5e9-5c758bde8871',\n",
       " 86: '41b1908f-2ebc-4860-bf8e-18c082247b3a',\n",
       " 87: '5b9db4f9-fa7d-4146-ae8f-e8af1c207668',\n",
       " 88: '62ba1973-8323-4732-a608-14da0923bccb',\n",
       " 89: 'f59d96b3-2b9a-4994-9fd2-8fac1658bc55',\n",
       " 90: 'f2b76606-54ad-4bc7-aa2a-edff15262fed',\n",
       " 91: '46d1ee6d-bd25-4ef6-a7ab-7f8532574e70',\n",
       " 92: '09f2d0c2-092b-4fe7-9279-e1ed1a592659',\n",
       " 93: '1e10b36e-c06a-4da2-81d3-8a73e5202747',\n",
       " 94: '54933e18-a597-4707-a19d-9f48f1a83278',\n",
       " 95: 'ccb0fb02-78bc-404f-b2ac-a659bc975ac6',\n",
       " 96: '5a2d15f5-f5a4-4cb3-b8e4-ae51ff59e8c5',\n",
       " 97: '8227b896-882b-4c67-a3da-5567d71e7abd',\n",
       " 98: '18464338-6ee4-48ca-ae5b-bc99e9b9fc5a',\n",
       " 99: 'd52be2ae-6e70-4375-8c53-2328a7e3c378',\n",
       " 100: '765241fd-aae2-42da-a0f6-16091e31e367',\n",
       " 101: 'ebe08af6-d685-4a57-9131-3eeb56836e43',\n",
       " 102: '6e545d1a-3b47-485f-b698-cd7ce81ca6c7',\n",
       " 103: '099f9332-61a2-4107-9b57-dc407da6ce71',\n",
       " 104: '05ccfba1-edd6-4f21-8d32-552ca8d5bb32',\n",
       " 105: '59222965-c30a-453f-8248-f9e4deccfb0e',\n",
       " 106: 'eff5f951-bb6e-4086-b337-1aac69c4121d',\n",
       " 107: '3079d922-2547-4706-9f49-88a481838045',\n",
       " 108: 'a88cc64f-af6b-48d3-9a82-a1e06f145a64',\n",
       " 109: '6c1324a9-a658-49a2-a12a-5f3320d0e2af',\n",
       " 110: '5fa6a12e-7e8b-41d5-bce5-c684fc169232',\n",
       " 111: 'bc6cf27b-06c9-42ff-9809-1b9750f67785',\n",
       " 112: '84ccbd99-52da-4fa3-a58f-a7ec4cb2e4fa',\n",
       " 113: '11a6c191-8ecd-4baf-897e-c338b55e32ee',\n",
       " 114: '185f4c5f-8224-4008-84e9-746074be0c30',\n",
       " 115: 'd764ccd9-f24e-4094-8d39-3ca453d2b821',\n",
       " 116: '294659c2-b25d-48f0-9931-2a79a2efb54c',\n",
       " 117: 'e3eddf34-bb13-40a5-9faa-900c6ba6a0ee',\n",
       " 118: 'dbc1bc76-0957-42bb-921e-46b1ec1db13f',\n",
       " 119: '367796c4-e783-443b-8d26-b179da4805e7',\n",
       " 120: '20023fc9-6321-48fe-84d4-b2a12f4cd3e5',\n",
       " 121: '03e78ca3-41cb-4b75-a682-264fffd033ed',\n",
       " 122: 'e848c6d2-08fc-45c0-bce2-8c74e0217b1c',\n",
       " 123: 'c1d7be7a-a2ed-43a6-8772-46e8639fffb2',\n",
       " 124: '469ec7f9-393e-4736-92ed-cb6a502abea6',\n",
       " 125: 'a4c52aeb-0775-4266-b263-a0a0dbf74597',\n",
       " 126: 'cdca6636-a59c-49b8-b7fe-cf0a9d115976',\n",
       " 127: '2047dc87-7cb5-45e5-8943-b3e687003261',\n",
       " 128: 'c71a6097-9803-4d35-96a2-b09665da4b26',\n",
       " 129: '91a8f6df-dfc8-4005-85c8-0e13f98bddba',\n",
       " 130: 'f7135bb4-ae01-4540-8f4e-cadcd54f7b66',\n",
       " 131: '4a40d7a4-48b4-43fd-803d-534bc6dd35de',\n",
       " 132: '8f048384-e8b1-4e2e-98f5-11d4ada2c833',\n",
       " 133: '5c9e8ce0-a1ee-4df6-86b4-778434504be1',\n",
       " 134: '3248c701-b144-46c6-9c4d-29e946de3e20',\n",
       " 135: 'dc786d28-4f91-4bee-bd22-6d1b3e5ae639',\n",
       " 136: '1f8b8e90-c84b-4ca0-abf3-ebd484ded102',\n",
       " 137: '9250f735-81cd-4dcf-bd69-133f0b350a7b',\n",
       " 138: '2dd2c170-4324-4c61-89d6-ced91219f09b',\n",
       " 139: '705ba715-4831-4a3d-a27e-60e3d40d3091',\n",
       " 140: '208115bf-45fd-44d9-9c77-f8cbfa46f19c',\n",
       " 141: '4f595928-86d8-43c2-8743-c54045de9faa',\n",
       " 142: 'b7bf76fd-b53c-4d20-9051-8898d9de606b',\n",
       " 143: '754516db-9080-4940-bda0-0df4ab8cc630',\n",
       " 144: '851124a4-376c-4d09-afcd-5d625936cd79',\n",
       " 145: 'e42b3cd9-cc21-41a6-a10b-4aacf0688610',\n",
       " 146: 'bca89539-4a83-4049-a801-f46e0d8b6069',\n",
       " 147: '17fea210-286f-484e-a114-4a6712b940f2',\n",
       " 148: '578a09b3-4ade-4a19-b967-fc25a4b0aee8',\n",
       " 149: 'f2884deb-c032-42d1-9137-3a4ed4e7adac',\n",
       " 150: '888e48df-8b83-4249-8b78-6731a23524ca',\n",
       " 151: '6cad9b62-642d-4e76-bc37-c1e07575713e',\n",
       " 152: 'fd66ec6e-cecb-4a0b-b77e-20cd12876bcd',\n",
       " 153: '7fcb3f75-6d77-4718-b4e2-85b4bf626a1e',\n",
       " 154: 'c05e14ec-7513-4c58-b5d3-d6e88d3d4992',\n",
       " 155: '1ab434ca-e083-450a-825b-4df764ce97c6',\n",
       " 156: 'b59eabd9-f7c9-4435-ba26-45c37420b589',\n",
       " 157: '48084228-39e8-4b21-8534-9389cfd03541',\n",
       " 158: '3531ed04-727a-4d51-b3fa-d56810b02b28',\n",
       " 159: '444f7722-35be-4067-861a-f56e2da8a68b',\n",
       " 160: '90636279-feab-4eff-948c-3b06c03d5731',\n",
       " 161: 'd3028e41-adf2-47e2-bfc4-4e1e37316086',\n",
       " 162: 'e8ce2eba-5b8b-42ba-8f80-2b38f0b7b068',\n",
       " 163: 'e0ba4b0e-d841-4cfe-848f-0dc9878fdc1b',\n",
       " 164: '34d43666-3ea3-41b4-af61-abb4c363a732',\n",
       " 165: 'f564c922-50c2-490b-81f1-8b9df1b1bc4a',\n",
       " 166: '40c548f6-9283-4d0d-ad9d-bcef83a89bbc',\n",
       " 167: '15ddf0a5-a9fc-4f0a-9318-ebfaadb69c35'}"
      ]
     },
     "execution_count": 6,
     "metadata": {},
     "output_type": "execute_result"
    }
   ],
   "source": [
    "vector_store.index_to_docstore_id"
   ]
  },
  {
   "cell_type": "code",
   "execution_count": null,
   "id": "5969017f",
   "metadata": {},
   "outputs": [],
   "source": [
    "retriever = vector_store.as_retriever(search_type = \"similarity\", search_kwargs = {\"k\": 4}) "
   ]
  },
  {
   "cell_type": "code",
   "execution_count": null,
   "id": "2d313fc1",
   "metadata": {},
   "outputs": [
    {
     "data": {
      "text/plain": [
       "[Document(id='d5fee8f5-8d8c-44dd-b863-7eedb54de945', metadata={}, page_content=\"the following is a conversation with demus hasabis ceo and co-founder of deepmind a company that has published and builds some of the most incredible artificial intelligence systems in the history of computing including alfred zero that learned all by itself to play the game of gold better than any human in the world and alpha fold two that solved protein folding both tasks considered nearly impossible for a very long time demus is widely considered to be one of the most brilliant and impactful humans in the history of artificial intelligence and science and engineering in general this was truly an honor and a pleasure for me to finally sit down with him for this conversation and i'm sure we will talk many times again in the future this is the lex friedman podcast to support it please check out our sponsors in the description and now dear friends here's demis hassabis let's start with a bit of a personal question am i an ai program you wrote to interview people until i get good enough\"),\n",
       " Document(id='926fc26d-1aad-4bb7-8be3-2b1e4e34e4bc', metadata={}, page_content='i used to discuss um uh uh what were the sort of founding tenets of deep mind and it was very various things one was um algorithmic advances so deep learning you know jeff hinton and cohen just had just sort of invented that in academia but no one in industry knew about it uh we love reinforcement learning we thought that could be scaled up but also understanding about the human brain had advanced um quite a lot uh in the decade prior with fmri machines and other things so we could get some good hints about architectures and algorithms and and sort of um representations maybe that the brain uses so as at a systems level not at a implementation level um and then the other big things were compute and gpus right so we could see a compute was going to be really useful and it got to a place where it became commoditized mostly through the games industry and and that could be taken advantage of and then the final thing was also mathematical and theoretical definitions of intelligence so'),\n",
       " Document(id='c73dfd12-8b07-408e-8214-14cbc1e32a5c', metadata={}, page_content=\"and how it works this is tough to uh ask you this question because you probably will say it's everything but let's let's try let's try to think to this because you're in a very interesting position where deepmind is the place of some of the most uh brilliant ideas in the history of ai but it's also a place of brilliant engineering so how much of solving intelligence this big goal for deepmind how much of it is science how much is engineering so how much is the algorithms how much is the data how much is the hardware compute infrastructure how much is it the software computer infrastructure yeah um what else is there how much is the human infrastructure and like just the humans interact in certain kinds of ways in all the space of all those ideas how much does maybe like philosophy how much what's the key if um uh if if you were to sort of look back like if we go forward 200 years look back what was the key thing that solved intelligence is that ideas i think it's a combination first\"),\n",
       " Document(id='7a7283c8-ecfd-4339-bc54-308fed9d3950', metadata={}, page_content=\"ambitious as trying to solve intelligence and you're you're you know it's blue sky research no one knows how to do it you you you need to use any evidence or any source of information you can to help guide you in the right direction or give you confidence you're going in the right direction so so that that was one reason we pushed so hard on that and that's and just going back to your early question about organization the other big thing that i think we innovated with at deepmind to encourage invention and and uh and innovation was the multi-disciplinary organization we built and we still have today so deepmind originally was a confluence of the of the most cutting-edge knowledge in neuroscience with machine learning engineering and mathematics right and and gaming and then since then we built that out even further so we have philosophers here and and uh by you know ethicists but also other types of scientists physicists and so on um and that's what brings together i tried to build a\")]"
      ]
     },
     "execution_count": 8,
     "metadata": {},
     "output_type": "execute_result"
    }
   ],
   "source": [
    "retriever.invoke(\"What is deepmind\")"
   ]
  },
  {
   "cell_type": "code",
   "execution_count": null,
   "id": "9c622aa7",
   "metadata": {},
   "outputs": [],
   "source": [
    "llm = ChatOpenAI(model= \"gpt-4o-mini\",temperature=0.2)"
   ]
  },
  {
   "cell_type": "code",
   "execution_count": null,
   "id": "3c8ede93",
   "metadata": {},
   "outputs": [
    {
     "data": {
      "text/plain": [
       "PromptTemplate(input_variables=['context', 'question'], input_types={}, partial_variables={}, template=\"\\n      You are a helpful assistant.\\n      Answer ONLY from the provided transcript context.\\n      If the context is insufficient, just say you don't know.\\n\\n      {context}\\n      Question: {question}\\n    \")"
      ]
     },
     "execution_count": 10,
     "metadata": {},
     "output_type": "execute_result"
    }
   ],
   "source": [
    "prompt = PromptTemplate(\n",
    "    template=\"\"\"\n",
    "      You are a helpful assistant.\n",
    "      Answer ONLY from the provided transcript context.\n",
    "      If the context is insufficient, just say you don't know.\n",
    "\n",
    "      {context}\n",
    "      Question: {question}\n",
    "    \"\"\",\n",
    "    input_variables = ['context', 'question']\n",
    ")\n",
    "prompt"
   ]
  },
  {
   "cell_type": "code",
   "execution_count": null,
   "id": "850132fb",
   "metadata": {},
   "outputs": [
    {
     "data": {
      "text/plain": [
       "[Document(id='40c548f6-9283-4d0d-ad9d-bcef83a89bbc', metadata={}, page_content=\"deeper maybe simpler explanation yes of things right than the standard model of physics which we know doesn't work but we still keep adding to so um and and that's how i think the beginning of an explanation would look and it would start encompassing many of the mysteries that we have wondered about for thousands of years like you know consciousness uh life and gravity all of these things yeah giving us a glimpses of explanations for those things yeah well um damas dear one of the special human beings in this giant puzzle of ours and it's a huge honor that you would take a pause from the bigger puzzle to solve this small puzzle of a conversation with me today it's truly an honor and a pleasure thank you thank you i really enjoyed it thanks lex thanks for listening to this conversation with demas establish to support this podcast please check out our sponsors in the description and now let me leave you with some words from edskar dykstra computer science is no more about computers than\"),\n",
       " Document(id='f564c922-50c2-490b-81f1-8b9df1b1bc4a', metadata={}, page_content=\"from the systems like all right how do i explain to the excuse me exactly all right let me i don't have time to explain uh maybe i'll draw you a picture that it is i mean how do you even begin um to answer that question well i think it would um what would you what would you think the answer could possibly look like i think it could it could start looking like uh uh more fundamental explanations of physics would be the beginning you know more careful specification of that taking you walking us through by the hand as to what one would do to maybe prove those things out maybe giving you glimpses of what things you totally missed in the physics of today exactly just here here's glimpses of no like there's a much uh a much more elaborate world or a much simpler world or something a much deeper maybe simpler explanation yes of things right than the standard model of physics which we know doesn't work but we still keep adding to so um and and that's how i think the beginning of an\"),\n",
       " Document(id='18464338-6ee4-48ca-ae5b-bc99e9b9fc5a', metadata={}, page_content=\"so we with this problem and we published it in a nature paper last year uh we held the fusion that we held the plasma in specific shapes so actually it's almost like carving the plasma into different shapes and control and hold it there for the record amount of time so um so that's one of the problems of of fusion sort of um solved so i have a controller that's able to no matter the shape uh contain it continue yeah contain it and hold it in structure and there's different shapes that are better for for the energy productions called droplets and and and so on so um so that was huge and now we're looking we're talking to lots of fusion startups to see what's the next problem we can tackle uh in the fusion area so another fascinating place in a paper title pushing the frontiers of density functionals by solving the fractional electron problem so you're taking on modeling and simulating the quantum mechanical behavior of electrons yes um can you explain this work and can ai model and\"),\n",
       " Document(id='15ddf0a5-a9fc-4f0a-9318-ebfaadb69c35', metadata={}, page_content='demas establish to support this podcast please check out our sponsors in the description and now let me leave you with some words from edskar dykstra computer science is no more about computers than astronomy is about telescopes thank you for listening and hope to see you next time')]"
      ]
     },
     "execution_count": 11,
     "metadata": {},
     "output_type": "execute_result"
    }
   ],
   "source": [
    "question          = \"Can you summarize the video\"\n",
    "retrieved_docs    = retriever.invoke(question)\n",
    "retrieved_docs"
   ]
  },
  {
   "cell_type": "code",
   "execution_count": null,
   "id": "8c13c2d9",
   "metadata": {},
   "outputs": [
    {
     "data": {
      "text/plain": [
       "\"deeper maybe simpler explanation yes of things right than the standard model of physics which we know doesn't work but we still keep adding to so um and and that's how i think the beginning of an explanation would look and it would start encompassing many of the mysteries that we have wondered about for thousands of years like you know consciousness uh life and gravity all of these things yeah giving us a glimpses of explanations for those things yeah well um damas dear one of the special human beings in this giant puzzle of ours and it's a huge honor that you would take a pause from the bigger puzzle to solve this small puzzle of a conversation with me today it's truly an honor and a pleasure thank you thank you i really enjoyed it thanks lex thanks for listening to this conversation with demas establish to support this podcast please check out our sponsors in the description and now let me leave you with some words from edskar dykstra computer science is no more about computers than\\n\\nfrom the systems like all right how do i explain to the excuse me exactly all right let me i don't have time to explain uh maybe i'll draw you a picture that it is i mean how do you even begin um to answer that question well i think it would um what would you what would you think the answer could possibly look like i think it could it could start looking like uh uh more fundamental explanations of physics would be the beginning you know more careful specification of that taking you walking us through by the hand as to what one would do to maybe prove those things out maybe giving you glimpses of what things you totally missed in the physics of today exactly just here here's glimpses of no like there's a much uh a much more elaborate world or a much simpler world or something a much deeper maybe simpler explanation yes of things right than the standard model of physics which we know doesn't work but we still keep adding to so um and and that's how i think the beginning of an\\n\\nso we with this problem and we published it in a nature paper last year uh we held the fusion that we held the plasma in specific shapes so actually it's almost like carving the plasma into different shapes and control and hold it there for the record amount of time so um so that's one of the problems of of fusion sort of um solved so i have a controller that's able to no matter the shape uh contain it continue yeah contain it and hold it in structure and there's different shapes that are better for for the energy productions called droplets and and and so on so um so that was huge and now we're looking we're talking to lots of fusion startups to see what's the next problem we can tackle uh in the fusion area so another fascinating place in a paper title pushing the frontiers of density functionals by solving the fractional electron problem so you're taking on modeling and simulating the quantum mechanical behavior of electrons yes um can you explain this work and can ai model and\\n\\ndemas establish to support this podcast please check out our sponsors in the description and now let me leave you with some words from edskar dykstra computer science is no more about computers than astronomy is about telescopes thank you for listening and hope to see you next time\""
      ]
     },
     "execution_count": 12,
     "metadata": {},
     "output_type": "execute_result"
    }
   ],
   "source": [
    "context_text = \"\\n\\n\".join(doc.page_content for doc in retrieved_docs)\n",
    "context_text"
   ]
  },
  {
   "cell_type": "code",
   "execution_count": null,
   "id": "4a78d135",
   "metadata": {},
   "outputs": [],
   "source": [
    "final_prompt = prompt.invoke({\"context\": context_text, \"question\": question})"
   ]
  },
  {
   "cell_type": "code",
   "execution_count": null,
   "id": "9464c90e",
   "metadata": {},
   "outputs": [
    {
     "name": "stdout",
     "output_type": "stream",
     "text": [
      "The video features a conversation with Demas, discussing the need for deeper and simpler explanations in physics beyond the standard model, which is known to be inadequate. They touch on various mysteries such as consciousness, life, and gravity, suggesting that a more fundamental understanding could provide insights into these topics. Demas also shares insights about advancements in fusion energy, specifically how they have developed a method to hold plasma in specific shapes for extended periods, which is a significant step in fusion research. Additionally, they mention work on modeling the quantum mechanical behavior of electrons and the potential role of AI in this area. The conversation emphasizes the importance of exploring new frontiers in both physics and technology.\n"
     ]
    }
   ],
   "source": [
    "answer = llm.invoke(final_prompt)\n",
    "print(answer.content)"
   ]
  },
  {
   "cell_type": "markdown",
   "id": "4eaf22d6",
   "metadata": {},
   "source": [
    "---"
   ]
  },
  {
   "cell_type": "code",
   "execution_count": null,
   "id": "8d5d69a5",
   "metadata": {},
   "outputs": [],
   "source": [
    "from langchain_core.runnables import RunnableParallel, RunnablePassthrough, RunnableLambda\n",
    "from langchain_core.output_parsers import StrOutputParser"
   ]
  },
  {
   "cell_type": "code",
   "execution_count": null,
   "id": "fadb3f59",
   "metadata": {},
   "outputs": [
    {
     "name": "stdout",
     "output_type": "stream",
     "text": [
      "An error occurred: no element found: line 1, column 0\n"
     ]
    }
   ],
   "source": [
    "\n",
    "video_id = \"Gfr50f6ZBvo\"  \n",
    "\n",
    "try:\n",
    "    # If you don't care which language, this returns the \"best\" one\n",
    "    transcript_list = YouTubeTranscriptApi.get_transcript(video_id, languages=[\"en\"])\n",
    "\n",
    "    # Flatten it to plain text\n",
    "    transcript = \" \".join(chunk[\"text\"] for chunk in transcript_list)\n",
    "    print(transcript)\n",
    "\n",
    "except Exception as e:\n",
    "    if \"No transcripts were found\" in str(e):\n",
    "        print(\"No captions available for this video.\")\n",
    "    else:\n",
    "        print(f\"An error occurred: {e}\")"
   ]
  },
  {
   "cell_type": "code",
   "execution_count": null,
   "id": "67050a4f",
   "metadata": {},
   "outputs": [],
   "source": [
    "\n",
    "prompt = PromptTemplate(\n",
    "    template=\"\"\"\n",
    "      You are a helpful assistant.\n",
    "      Answer ONLY from the provided transcript context.\n",
    "      If the context is insufficient, just say you don't know.\n",
    "\n",
    "      {context}\n",
    "      Question: {question}\n",
    "    \"\"\",\n",
    "    input_variables = ['context', 'question']\n",
    ")\n",
    "prompt"
   ]
  },
  {
   "cell_type": "code",
   "execution_count": null,
   "id": "19d4bc16",
   "metadata": {},
   "outputs": [],
   "source": [
    "def format_docs(retrieved_docs):\n",
    "  context_text = \"\\n\\n\".join(doc.page_content for doc in retrieved_docs)\n",
    "  return context_text"
   ]
  },
  {
   "cell_type": "code",
   "execution_count": null,
   "id": "f26baa3e",
   "metadata": {},
   "outputs": [],
   "source": [
    "parallel_chain = RunnableParallel({\n",
    "    'context': retriever | RunnableLambda(format_docs),\n",
    "    'question': RunnablePassthrough()\n",
    "})"
   ]
  },
  {
   "cell_type": "code",
   "execution_count": null,
   "id": "c319971a",
   "metadata": {},
   "outputs": [
    {
     "name": "stdout",
     "output_type": "stream",
     "text": [
      "the following is a conversation with demus hasabis ceo and co-founder of deepmind a company that has published and builds some of the most incredible artificial intelligence systems in the history of computing including alfred zero that learned all by itself to play the game of gold better than any human in the world and alpha fold two that solved protein folding both tasks considered nearly impossible for a very long time demus is widely considered to be one of the most brilliant and impactful humans in the history of artificial intelligence and science and engineering in general this was truly an honor and a pleasure for me to finally sit down with him for this conversation and i'm sure we will talk many times again in the future this is the lex friedman podcast to support it please check out our sponsors in the description and now dear friends here's demis hassabis let's start with a bit of a personal question am i an ai program you wrote to interview people until i get good enough\n",
      "\n",
      "i used to discuss um uh uh what were the sort of founding tenets of deep mind and it was very various things one was um algorithmic advances so deep learning you know jeff hinton and cohen just had just sort of invented that in academia but no one in industry knew about it uh we love reinforcement learning we thought that could be scaled up but also understanding about the human brain had advanced um quite a lot uh in the decade prior with fmri machines and other things so we could get some good hints about architectures and algorithms and and sort of um representations maybe that the brain uses so as at a systems level not at a implementation level um and then the other big things were compute and gpus right so we could see a compute was going to be really useful and it got to a place where it became commoditized mostly through the games industry and and that could be taken advantage of and then the final thing was also mathematical and theoretical definitions of intelligence so\n",
      "\n",
      "and how it works this is tough to uh ask you this question because you probably will say it's everything but let's let's try let's try to think to this because you're in a very interesting position where deepmind is the place of some of the most uh brilliant ideas in the history of ai but it's also a place of brilliant engineering so how much of solving intelligence this big goal for deepmind how much of it is science how much is engineering so how much is the algorithms how much is the data how much is the hardware compute infrastructure how much is it the software computer infrastructure yeah um what else is there how much is the human infrastructure and like just the humans interact in certain kinds of ways in all the space of all those ideas how much does maybe like philosophy how much what's the key if um uh if if you were to sort of look back like if we go forward 200 years look back what was the key thing that solved intelligence is that ideas i think it's a combination first\n",
      "\n",
      "ambitious as trying to solve intelligence and you're you're you know it's blue sky research no one knows how to do it you you you need to use any evidence or any source of information you can to help guide you in the right direction or give you confidence you're going in the right direction so so that that was one reason we pushed so hard on that and that's and just going back to your early question about organization the other big thing that i think we innovated with at deepmind to encourage invention and and uh and innovation was the multi-disciplinary organization we built and we still have today so deepmind originally was a confluence of the of the most cutting-edge knowledge in neuroscience with machine learning engineering and mathematics right and and gaming and then since then we built that out even further so we have philosophers here and and uh by you know ethicists but also other types of scientists physicists and so on um and that's what brings together i tried to build a\n"
     ]
    }
   ],
   "source": [
    "result = parallel_chain.invoke(\"What is deepmind\")\n",
    "print(result['context'])"
   ]
  },
  {
   "cell_type": "code",
   "execution_count": null,
   "id": "6c4240ed",
   "metadata": {},
   "outputs": [],
   "source": [
    "parser = StrOutputParser()"
   ]
  },
  {
   "cell_type": "code",
   "execution_count": null,
   "id": "13ef45a7",
   "metadata": {},
   "outputs": [],
   "source": [
    "main_chain = parallel_chain | prompt | llm | parser"
   ]
  },
  {
   "cell_type": "code",
   "execution_count": null,
   "id": "8796fecf",
   "metadata": {},
   "outputs": [
    {
     "data": {
      "text/plain": [
       "'The video features a conversation with Demas, who discusses the limitations of the standard model of physics and the need for deeper, simpler explanations of fundamental concepts like consciousness, life, and gravity. He mentions recent advancements in fusion research, specifically how they have managed to hold plasma in specific shapes for extended periods, which is a significant step forward in energy production. Additionally, he touches on the challenges of modeling quantum mechanical behavior of electrons and the potential role of AI in this area. The conversation emphasizes the importance of exploring new ideas and solutions in physics and related fields.'"
      ]
     },
     "execution_count": 57,
     "metadata": {},
     "output_type": "execute_result"
    }
   ],
   "source": [
    "\n",
    "main_chain.invoke('Can you summarize the video')"
   ]
  }
 ],
 "metadata": {
  "kernelspec": {
   "display_name": "genai",
   "language": "python",
   "name": "python3"
  },
  "language_info": {
   "codemirror_mode": {
    "name": "ipython",
    "version": 3
   },
   "file_extension": ".py",
   "mimetype": "text/x-python",
   "name": "python",
   "nbconvert_exporter": "python",
   "pygments_lexer": "ipython3",
   "version": "3.9.21"
  }
 },
 "nbformat": 4,
 "nbformat_minor": 5
}
