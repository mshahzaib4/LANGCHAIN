{
 "cells": [
  {
   "cell_type": "code",
   "execution_count": 105,
   "id": "9754a6fe",
   "metadata": {},
   "outputs": [],
   "source": [
    "import random\n",
    "class NakillM:\n",
    "    def __init__(self):\n",
    "        print(\"LLM Created\")\n",
    "    def predict(self, prompt):\n",
    "        response_list = [\n",
    "            'Islamabad is Capital of Pakistan',\n",
    "            'PCB is Cricket League',\n",
    "            'AI Stand For Artificial Intielgence'\n",
    "        ]    \n",
    "        return {'response':random.choice(response_list)}       "
   ]
  },
  {
   "cell_type": "code",
   "execution_count": 106,
   "id": "7e6aee94",
   "metadata": {},
   "outputs": [
    {
     "name": "stdout",
     "output_type": "stream",
     "text": [
      "LLM Created\n"
     ]
    },
    {
     "data": {
      "text/plain": [
       "{'response': 'PCB is Cricket League'}"
      ]
     },
     "execution_count": 106,
     "metadata": {},
     "output_type": "execute_result"
    }
   ],
   "source": [
    "llm = NakillM()\n",
    "llm.predict(\"What is The Capital of Pakistan?\")"
   ]
  },
  {
   "cell_type": "code",
   "execution_count": 107,
   "id": "ac5f0f9f",
   "metadata": {},
   "outputs": [],
   "source": [
    "class NakillM_prompt_template:\n",
    "    def __init__(self, template, input_variable):\n",
    "        self.template = template\n",
    "        self.variable = input_variable\n",
    "    def format_function(self, input_dict):\n",
    "        return self.template.format(**input_dict)     "
   ]
  },
  {
   "cell_type": "code",
   "execution_count": 108,
   "id": "a6ce5365",
   "metadata": {},
   "outputs": [],
   "source": [
    "template = NakillM_prompt_template(\n",
    "    template = \"What is your name {topic}\",\n",
    "    input_variable = ['topic']\n",
    ")"
   ]
  },
  {
   "cell_type": "code",
   "execution_count": 109,
   "id": "b3b8208e",
   "metadata": {},
   "outputs": [],
   "source": [
    "prompt = template.format_function({'topic':'Shahzaib'})"
   ]
  },
  {
   "cell_type": "code",
   "execution_count": 110,
   "id": "7dc4acc5",
   "metadata": {},
   "outputs": [
    {
     "data": {
      "text/plain": [
       "{'response': 'PCB is Cricket League'}"
      ]
     },
     "execution_count": 110,
     "metadata": {},
     "output_type": "execute_result"
    }
   ],
   "source": [
    "llm.predict(prompt)"
   ]
  },
  {
   "cell_type": "code",
   "execution_count": 111,
   "id": "3061ca65",
   "metadata": {},
   "outputs": [
    {
     "name": "stdout",
     "output_type": "stream",
     "text": [
      "LLM Created\n",
      "PCB is Cricket League\n"
     ]
    }
   ],
   "source": [
    "import random\n",
    "\n",
    "# Prompt Template Class\n",
    "class NakillM_prompt_template:\n",
    "    def __init__(self, template, input_variable):\n",
    "        self.template = template\n",
    "        self.variable = input_variable\n",
    "\n",
    "    def format_function(self, input_dict):\n",
    "        return self.template.format(**input_dict)\n",
    "\n",
    "# Mock LLM\n",
    "class NakillM:\n",
    "    def __init__(self):\n",
    "        print(\"LLM Created\")\n",
    "\n",
    "    def predict(self, prompt):\n",
    "        response_list = [\n",
    "            'Islamabad is Capital of Pakistan',\n",
    "            'PCB is Cricket League',\n",
    "            'AI Stands For Artificial Intelligence'\n",
    "        ]    \n",
    "        return {'response': random.choice(response_list)}\n",
    "\n",
    "# Chain Class\n",
    "class Chain:\n",
    "    def __init__(self, llm, prompt):\n",
    "        self.llm = llm\n",
    "        self.prompt = prompt\n",
    "\n",
    "    def run(self, input_dict):\n",
    "        final_prompt = self.prompt.format_function(input_dict)\n",
    "        result = self.llm.predict(final_prompt)    \n",
    "        return result['response']\n",
    "\n",
    "# Create Prompt Template\n",
    "template = NakillM_prompt_template(\n",
    "    template=\"What is your name {topic}\",\n",
    "    input_variable=['topic']\n",
    ")\n",
    "\n",
    "# Create LLM and Chain\n",
    "llm = NakillM()\n",
    "chain = Chain(llm, template)\n",
    "\n",
    "# Run the chain\n",
    "output = chain.run({'topic': \"Shahzaib\"})\n",
    "print(output)\n"
   ]
  },
  {
   "cell_type": "markdown",
   "id": "4c6ecd3d",
   "metadata": {},
   "source": [
    "---"
   ]
  },
  {
   "cell_type": "code",
   "execution_count": 112,
   "id": "7285d945",
   "metadata": {},
   "outputs": [],
   "source": [
    "from abc import ABC, abstractmethod\n",
    "class runnable(ABC):\n",
    "    @abstractmethod\n",
    "    def invoke(self, input_data):\n",
    "        pass"
   ]
  },
  {
   "cell_type": "code",
   "execution_count": null,
   "id": "b2aa8a9f",
   "metadata": {},
   "outputs": [],
   "source": [
    "import random\n",
    "\n",
    "# Prompt Template Class\n",
    "class NakillM_prompt_template(runnable):\n",
    "    def __init__(self, template, input_variable):\n",
    "        self.template = template\n",
    "        self.variable = input_variable\n",
    "    \n",
    "    def invoke(self, input_dict):\n",
    "        return self.template.format(**input_dict)\n",
    "\n",
    "    def format_function(self, input_dict):\n",
    "        return self.template.format(**input_dict)\n",
    "\n",
    "# Mock LLM\n",
    "class NakillM(runnable):\n",
    "    def __init__(self):\n",
    "        print(\"LLM Created\")\n",
    "\n",
    "\n",
    "    def invoke(self, input_data):\n",
    "        response_list = [\n",
    "            'Islamabad is Capital of Pakistan',\n",
    "            'PCB is Cricket League',\n",
    "            'AI Stands For Artificial Intelligence'\n",
    "        ]    \n",
    "        return {'response': random.choice(response_list)}    \n",
    "    \n",
    "\n",
    "    def predict(self, prompt):\n",
    "        response_list = [\n",
    "            'Islamabad is Capital of Pakistan',\n",
    "            'PCB is Cricket League',\n",
    "            'AI Stands For Artificial Intelligence'\n",
    "        ]    \n",
    "        return {'response': random.choice(response_list)}\n",
    "\n",
    "prompt_template_instance = NakillM_prompt_template(\n",
    "    template=\"What is your name {topic}\",\n",
    "    input_variable=['topic']\n",
    ")    "
   ]
  },
  {
   "cell_type": "code",
   "execution_count": 114,
   "id": "0dd7e0a9",
   "metadata": {},
   "outputs": [],
   "source": [
    "class runnableConnector(runnable):\n",
    "    def __init__(self, runnable_list):\n",
    "        self.runnable_list = runnable_list\n",
    "    def invoke(self, input_data):\n",
    "        for runnable in self.runnable_list:\n",
    "            input_data = runnable.invoke(input_data)\n",
    "        return input_data        \n",
    "        "
   ]
  },
  {
   "cell_type": "code",
   "execution_count": null,
   "id": "a164dc83",
   "metadata": {},
   "outputs": [
    {
     "name": "stdout",
     "output_type": "stream",
     "text": [
      "LLM Created\n"
     ]
    }
   ],
   "source": [
    "llm = NakillM() "
   ]
  },
  {
   "cell_type": "code",
   "execution_count": null,
   "id": "43b2fc36",
   "metadata": {},
   "outputs": [],
   "source": [
    "chain = runnableConnector([prompt_template_instance, llm])"
   ]
  },
  {
   "cell_type": "code",
   "execution_count": 117,
   "id": "2903cb26",
   "metadata": {},
   "outputs": [
    {
     "data": {
      "text/plain": [
       "{'response': 'Islamabad is Capital of Pakistan'}"
      ]
     },
     "execution_count": 117,
     "metadata": {},
     "output_type": "execute_result"
    }
   ],
   "source": [
    "chain.invoke({'topic':'shahzaib'})"
   ]
  },
  {
   "cell_type": "markdown",
   "id": "9cec5de2",
   "metadata": {},
   "source": [
    "---"
   ]
  }
 ],
 "metadata": {
  "kernelspec": {
   "display_name": "genai",
   "language": "python",
   "name": "python3"
  },
  "language_info": {
   "codemirror_mode": {
    "name": "ipython",
    "version": 3
   },
   "file_extension": ".py",
   "mimetype": "text/x-python",
   "name": "python",
   "nbconvert_exporter": "python",
   "pygments_lexer": "ipython3",
   "version": "3.9.21"
  }
 },
 "nbformat": 4,
 "nbformat_minor": 5
}
