{
 "cells": [
  {
   "cell_type": "code",
   "execution_count": null,
   "id": "3e9ed698",
   "metadata": {},
   "outputs": [],
   "source": [
    "from langchain_community.tools import DuckDuckGoSearchResults"
   ]
  },
  {
   "cell_type": "code",
   "execution_count": 5,
   "id": "134d9a3d",
   "metadata": {},
   "outputs": [
    {
     "data": {
      "text/plain": [
       "\"snippet: Pakistan is a populous multiethnic country of South Asia. With a predominately Indo-Iranian speaking population, Pakistan has historically and culturally been associated with its neighbors Iran, Afghanistan, and India. Since 1947 Pakistan has been distinguished from India by its overwhelmingly Muslim population., title: Pakistan | History, Population, Religion, Prime Minister, Map, & Flag ..., link: https://www.britannica.com/place/Pakistan, snippet: Visit the Definitions and Notes page to view a description of each topic., title: Pakistan - The World Factbook, link: https://www.cia.gov/the-world-factbook/countries/pakistan/, snippet: Pakistan Paendabad. The Islamic name Pakistan (English pronunciation: / ˈ p æ k ɪ s t æ n / or / p ɑː k i ˈ s t ɑː n / (); Urdu: پاکستان [paːkɪˈst̪aːn]) means 'Land of (the) Spiritually Pure' in both Urdu and Persian languages. It alludes to the word pāk meaning pure in Persian and Pashto. [14] The suffix ـستان is a Persian word meaning the place of, and also recalls ..., title: Pakistan - Simple English Wikipedia, the free encyclopedia, link: https://simple.wikipedia.org/wiki/Pakistan, snippet: Pakistan, officially the Islamic Republic of Pakistan, is a country in South Asia.It is the fifth-most populous country, with a population of over 241.5 million, having the second-largest Muslim population as of 2023. Islamabad is the nation's capital, while Karachi is its largest city and financial centre.Pakistan is the 33rd-largest country by area. ..., title: Portal:Pakistan - Wikipedia, link: https://en.wikipedia.org/wiki/Portal:Pakistan\""
      ]
     },
     "execution_count": 5,
     "metadata": {},
     "output_type": "execute_result"
    }
   ],
   "source": [
    "search_tools = DuckDuckGoSearchResults()\n",
    "results = search_tools.invoke(\"Pakistan is?\")\n",
    "results"
   ]
  },
  {
   "cell_type": "code",
   "execution_count": 8,
   "id": "7b7650b4",
   "metadata": {},
   "outputs": [
    {
     "data": {
      "text/plain": [
       "\"snippet: Imran Khan (born October 5, 1952, Lahore, Pakistan) is an antiestablishment politician in Pakistan who in 2022 became the first prime minister (2018-22) to be removed by a parliamentary vote. He rose to fame as a cricket player who led Pakistan's national team to a Cricket World Cup victory in 1992. He later entered politics as a critic of government corruption in Pakistan, although he ..., title: Imran Khan | Pakistan, Biography, Cricketer, Prime Minister, & PTI ..., link: https://www.britannica.com/biography/Imran-Khan, snippet: Imran Khan, the former Prime Minister, may receive bail on June 11 in the Al-Qadir Trust case. The Islamabad High Court will hear petitions for suspension of sentences for Khan and his wife. Gohar Ali Khan anticipates Khan's release. PTI plans a movement against the current government. Khan faces multiple cases and alleges election rigging. Rana Sanaullah suggests negotiations., title: Former ex-PM Imran Khan likely to be released on June 11, party ..., link: https://economictimes.indiatimes.com/news/international/world-news/former-ex-pm-imran-khan-likely-to-be-released-on-june-11-party-colleague-says/articleshow/121708136.cms, snippet: Imran Khan calls for 'fight till the end' as Pakistan gov't rules out talks. Tensions rise as security forces clash with protesters calling for release of imprisoned former prime minister., title: Imran Khan | Today's latest from Al Jazeera, link: https://www.aljazeera.com/tag/imran-khan/, snippet: Imran Khan is the founder of the political party Pakistan Tehreek-e-Insaf and served as the 19th prime minister of Pakistan from August 2018 until April 2022. In jail since 2023, he has been ..., title: From Prison, Imran Khan Reminds Us to Pay Attention To Pakistan, link: https://time.com/7262072/imran-khan-writes-from-prison-pakistan/\""
      ]
     },
     "execution_count": 8,
     "metadata": {},
     "output_type": "execute_result"
    }
   ],
   "source": [
    "search_tools = DuckDuckGoSearchResults()\n",
    "results = search_tools.invoke(\"How is Imran Khan?\")\n",
    "results"
   ]
  }
 ],
 "metadata": {
  "kernelspec": {
   "display_name": "genai",
   "language": "python",
   "name": "python3"
  },
  "language_info": {
   "codemirror_mode": {
    "name": "ipython",
    "version": 3
   },
   "file_extension": ".py",
   "mimetype": "text/x-python",
   "name": "python",
   "nbconvert_exporter": "python",
   "pygments_lexer": "ipython3",
   "version": "3.9.21"
  }
 },
 "nbformat": 4,
 "nbformat_minor": 5
}
