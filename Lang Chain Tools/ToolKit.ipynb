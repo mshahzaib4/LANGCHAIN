{
 "cells": [
  {
   "cell_type": "code",
   "execution_count": 9,
   "id": "59d033cd",
   "metadata": {},
   "outputs": [],
   "source": [
    "from pydantic import BaseModel, Field\n",
    "from langchain.tools import StructuredTool"
   ]
  },
  {
   "cell_type": "code",
   "execution_count": 10,
   "id": "5dadf564",
   "metadata": {},
   "outputs": [],
   "source": [
    "class MultiplyBaseModel(BaseModel):\n",
    "    a: int = Field(required =  True, description = \"The First number to add\")\n",
    "    b: int = Field(required = True, description = \"The Second Number to add\")\n",
    "\n",
    "def Multiply(a, b)->int:\n",
    "    return a*b\n",
    "\n",
    "multiply_tool = StructuredTool.from_function(\n",
    "    func = Multiply,\n",
    "    name = \"Multiply Function\",\n",
    "    description = \"Multiply Two Numbers\",\n",
    "    args_schema = MultiplyBaseModel,\n",
    "\n",
    ")    "
   ]
  },
  {
   "cell_type": "code",
   "execution_count": 11,
   "id": "1c8eda57",
   "metadata": {},
   "outputs": [],
   "source": [
    "class SumBaseModel(BaseModel):\n",
    "    a: int = Field(required =  True, description = \"The First number to add\")\n",
    "    b: int = Field(required = True, description = \"The Second Number to add\")\n",
    "\n",
    "def Sum(a, b)->int:\n",
    "    return a+b\n",
    "\n",
    "sum_tool = StructuredTool.from_function(\n",
    "    func = Sum,\n",
    "    name = \"Multiply Function\",\n",
    "    description = \"Multiply Two Numbers\",\n",
    "    args_schema = SumBaseModel,\n",
    "\n",
    ")    "
   ]
  },
  {
   "cell_type": "code",
   "execution_count": 12,
   "id": "e60355e5",
   "metadata": {},
   "outputs": [],
   "source": [
    "class MathToolkit:\n",
    "    def get_tools(self):\n",
    "        return [multiply_tool, sum_tool]"
   ]
  },
  {
   "cell_type": "code",
   "execution_count": 13,
   "id": "d5fe4130",
   "metadata": {},
   "outputs": [
    {
     "name": "stdout",
     "output_type": "stream",
     "text": [
      "Multiply Function => Multiply Two Numbers\n",
      "Multiply Function => Multiply Two Numbers\n"
     ]
    }
   ],
   "source": [
    "toolkit = MathToolkit()\n",
    "tools = toolkit.get_tools()\n",
    "\n",
    "for tool in tools:\n",
    "    print(tool.name, \"=>\", tool.description)"
   ]
  }
 ],
 "metadata": {
  "kernelspec": {
   "display_name": "genai",
   "language": "python",
   "name": "python3"
  },
  "language_info": {
   "codemirror_mode": {
    "name": "ipython",
    "version": 3
   },
   "file_extension": ".py",
   "mimetype": "text/x-python",
   "name": "python",
   "nbconvert_exporter": "python",
   "pygments_lexer": "ipython3",
   "version": "3.9.21"
  }
 },
 "nbformat": 4,
 "nbformat_minor": 5
}
