{
 "cells": [
  {
   "cell_type": "code",
   "execution_count": 1,
   "id": "4280015a",
   "metadata": {},
   "outputs": [],
   "source": [
    "from pydantic import BaseModel, Field\n",
    "from langchain.tools import StructuredTool"
   ]
  },
  {
   "cell_type": "code",
   "execution_count": 7,
   "id": "17be2286",
   "metadata": {},
   "outputs": [],
   "source": [
    "class MultiplyBaseModel(BaseModel):\n",
    "    a: int = Field(required =  True, description = \"The First number to add\")\n",
    "    b: int = Field(required = True, description = \"The Second Number to add\")\n",
    "\n",
    "def Multiply(a, b)->int:\n",
    "    return a*b"
   ]
  },
  {
   "cell_type": "code",
   "execution_count": 11,
   "id": "02ef9634",
   "metadata": {},
   "outputs": [
    {
     "name": "stdout",
     "output_type": "stream",
     "text": [
      "25\n",
      "Multiply Function\n",
      "Multiply Two Numbers\n"
     ]
    }
   ],
   "source": [
    "multiply_tool = StructuredTool.from_function(\n",
    "    func = Multiply,\n",
    "    name = \"Multiply Function\",\n",
    "    description = \"Multiply Two Numbers\",\n",
    "    args_schema = MultiplyBaseModel,\n",
    "\n",
    ")\n",
    "result = multiply_tool.invoke({\"a\":5, \"b\":5})\n",
    "print(result)\n",
    "print(multiply_tool.name)\n",
    "print(multiply_tool.description)"
   ]
  }
 ],
 "metadata": {
  "kernelspec": {
   "display_name": "genai",
   "language": "python",
   "name": "python3"
  },
  "language_info": {
   "codemirror_mode": {
    "name": "ipython",
    "version": 3
   },
   "file_extension": ".py",
   "mimetype": "text/x-python",
   "name": "python",
   "nbconvert_exporter": "python",
   "pygments_lexer": "ipython3",
   "version": "3.9.21"
  }
 },
 "nbformat": 4,
 "nbformat_minor": 5
}
