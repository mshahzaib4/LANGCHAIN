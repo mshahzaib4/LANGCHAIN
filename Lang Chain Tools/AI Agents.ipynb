{
 "cells": [
  {
   "cell_type": "code",
   "execution_count": null,
   "id": "1eb01068",
   "metadata": {},
   "outputs": [
    {
     "data": {
      "text/plain": [
       "True"
      ]
     },
     "execution_count": 7,
     "metadata": {},
     "output_type": "execute_result"
    }
   ],
   "source": [
    "from langchain_community.tools import DuckDuckGoSearchRun\n",
    "from langchain_openai import ChatOpenAI\n",
    "from langchain_core.tools import tool\n",
    "from dotenv import load_dotenv\n",
    "load_dotenv()\n"
   ]
  },
  {
   "cell_type": "code",
   "execution_count": 4,
   "id": "ebac2d93",
   "metadata": {},
   "outputs": [
    {
     "data": {
      "text/plain": [
       "'Stay on top of Pakistan latest developments on the ground with Al Jazeera\\'s fact-based news, exclusive video footage, photos and updated maps. Latest Pakistan news, World News, breaking news updates on Pakistan, Politics, Sports, Business, Technology, Education, lifestyle & Weather on eTribune. Top News in Pakistan: Read Latest Breaking News on Pakistan Politics, Business, World, Sports, Lifestyle, CPEC, Articles, from pakobserver. UK and India discuss \\'counter-terrorism\\' cooperation after Pakistan ceasefire Britain and India on Saturday discussed expanding their \"counter-terrorism\" collaboration following recent fighting ... Dunya News Source of Trusted latest and Breaking News, Pakistan News, Urdu news from Pakistan, World News, Sports News, cricket News, Business News, Politics, health News With Fake News Check, Your Favorite Shows Like Hasb e Haal, Mazaaq Raat, Dunya Kamran Khan ke Sath, On the Front with Kamran Shahid and Many more'"
      ]
     },
     "execution_count": 4,
     "metadata": {},
     "output_type": "execute_result"
    }
   ],
   "source": [
    "search_tool = DuckDuckGoSearchRun()\n",
    "results = search_tool.invoke(\"top news in Pakistan\")\n",
    "results"
   ]
  },
  {
   "cell_type": "code",
   "execution_count": 8,
   "id": "6c9bcb49",
   "metadata": {},
   "outputs": [],
   "source": [
    "from langchain.agents import create_react_agent, AgentExecutor\n",
    "from langchain import hub"
   ]
  },
  {
   "cell_type": "code",
   "execution_count": 9,
   "id": "e1a56b3a",
   "metadata": {},
   "outputs": [
    {
     "name": "stderr",
     "output_type": "stream",
     "text": [
      "c:\\Users\\zohaib malik\\AppData\\Local\\miniconda3\\envs\\genai\\lib\\site-packages\\langsmith\\client.py:253: LangSmithMissingAPIKeyWarning: API key must be provided when using hosted LangSmith API\n",
      "  warnings.warn(\n"
     ]
    }
   ],
   "source": [
    "prompt = hub.pull(\"hwchase17/react\")"
   ]
  },
  {
   "cell_type": "code",
   "execution_count": 11,
   "id": "82608093",
   "metadata": {},
   "outputs": [],
   "source": [
    "llm = ChatOpenAI()"
   ]
  },
  {
   "cell_type": "code",
   "execution_count": 13,
   "id": "32509f66",
   "metadata": {},
   "outputs": [],
   "source": [
    "agent = create_react_agent(\n",
    "    prompt = prompt,\n",
    "    llm = llm,\n",
    "    tools = [search_tool]\n",
    ")"
   ]
  },
  {
   "cell_type": "code",
   "execution_count": 14,
   "id": "44aaa037",
   "metadata": {},
   "outputs": [],
   "source": [
    "Agent_Executor = AgentExecutor(\n",
    "    agent = agent,\n",
    "    tools = [search_tool],\n",
    "    verbose= True\n",
    ")"
   ]
  },
  {
   "cell_type": "code",
   "execution_count": null,
   "id": "ee933c42",
   "metadata": {},
   "outputs": [
    {
     "name": "stdout",
     "output_type": "stream",
     "text": [
      "\n",
      "\n",
      "\u001b[1m> Entering new AgentExecutor chain...\u001b[0m\n",
      "\u001b[32;1m\u001b[1;3mI should search for the different transportation options available for traveling from Narowal to Swat in Pakistan.\n",
      "Action: duckduckgo_search\n",
      "Action Input: \"transportation options from Narowal to Swat Pakistan\"\u001b[0m\u001b[36;1m\u001b[1;3m[eikra-vc-info-box icon=\"\" title=\"About Swat Coach:\"]Swat Coach is a bus service in Pakistan that operates between Swat, Karachi, Lahore, Faisalabad, Gujranwala, Multan and Sialkot. They offer safe, reliable, and comfortable transportation for passengers travelling between these cities and Swat. As you know Daewoo is Pakistan's leading transport company operating in 60+ cities and provinces like Punjab, Sindh, KPK, and Balochistan. ... Rawalpindi to Swat: 1,120: N/A: Rawalpindi to Faisalabad: 1,530: N/A: Rawalpindi to Abbottabad: 880: ... The service includes a variety of travel options, such as Business Class, Gold Class, Luxury ... Here you will find out Daewoo Express bus Arrival at Swat from all the locations of Pakistan. Buses Arrival schedule of Daewoo Express at Swat with ticket prices, booking and reservation details, and booking options are available here. ... and booking options are available here. Destination Time Price / Type; Barikot to Swat: 07:45 AM. 05-06 ... Swat Coach has become a vital part of regional transportation, providing a bridge between the bustling city of Karachi and the serene landscapes of Swat. With a modern fleet of buses and a commitment to customer satisfaction, Swat Coach ensures a comfortable and convenient travel experience for all passengers. The Fleet Karachi to Swat: Traveling via the motorway, this route ensures a smooth journey back to the scenic beauty of Swat, making it perfect for leisure and business travellers alike. Karachi to Mansehra : This route connects travelers from Karachi to Mansehra, allowing them to explore the picturesque northern regions of Pakistan.\u001b[0m\u001b[32;1m\u001b[1;3mI should also check for other transportation options besides buses.\n",
      "Action: duckduckgo_search\n",
      "Action Input: \"transportation options from Narowal to Swat Pakistan besides buses\"\u001b[0m\u001b[36;1m\u001b[1;3mKarachi to Lahore bus journey takes approximately 14 hrs 30 Minutes. Karachi to Peshawar: Karachi to Peshawar by bus can be covered in 18 hours 45 Minutes, early bus from Karachi leaves at 11:00 AM, and the last bus departs at 11:00 PM. The Karachi to Multan journey takes 11 hours. The early bus leaves at 7:00 AM, and the last bus departs at 11 ... The Swat Motorway (M-16) connects the valley directly to the main highway, making the journey smooth and safe. If you're coming from Peshawar, the drive is shorter — about 4 to 5 hours. You can use a private car or travel by bus. Many local transport companies like Daewoo and Skyways offer daily services to Mingora. By Private Car or Rented ... Enter Ahmad Travels (Nosheen Coaches), a renowned bus travel company that has been serving the people of Pakistan for years with flexible rates that make it easier to explore the beautiful landscapes of the country. If you're planning a trip from Lahore to destinations such as Swat, Mardan, Bunair, or Bajore, Ahmad Travels has got you covered. Over the last few years, bus travel in Pakistan has grown exponentially. The country's broad road network, which connects the largest cities, has proved well-suited for buses. Major Characteristics of Modern Bus Services: Luxury Amenities: The Pakistan buses now have recliner seats, air conditioning, in-bus entertainment systems, and snacks. Faisal Movers Lahore to Swat. Faisal Movers offers convenient bus services from Lahore to Swat, covering the 571 km distance to Mingora in about 7 to 8 hours. The buses, known for their comfort and reliability, depart from Lahore's main terminal and feature amenities like air-conditioning and reclining seats.\u001b[0m\u001b[32;1m\u001b[1;3mI should also look into the possibility of taking a flight from Narowal to Swat.\n",
      "Action: duckduckgo_search\n",
      "Action Input: \"flights from Narowal to Swat Pakistan\"\u001b[0m\u001b[36;1m\u001b[1;3mLooking for cheap flights to Saidu Sharif? Many airlines offer no change fee on selected flights and book now to earn your airline miles on top of our rewards! Find great 2025 Saidu Sharif flight deals now! Search and book cheap flights from Pakistan with ApniTicket.pk. Discover top deals on domestic and international airline tickets. Start your journey today! Flights. Language +92 42111111003. Sign In. APNI TICKET APNI MARZI! Flights. Round Trip ; ... Lahore, Pakistan (+92) 42111111003 ... Footage has emerged showing Pakistan Army tanks mobilizing near Narowal in Punjab province, just 18 to 20 kilometers from the international border with India. Simultaneously, credible sources have confirmed that the Pakistan Air Force (PAF) has activated its Swat air base in the northern region, suggesting heightened military readiness. All Pakistan flights on an interactive flight map, including Pakistan timetables and flight schedules. Find Pakistan routes, destinations and airports, see where they fly and book your flight! Flights can be cancelled with little warning due to weather and other operational reasons. Dense fog, especially in central and northern Pakistan during the winter months, can also disrupt air travel. Airports may close until the fog lifts. If you plan to fly within Pakistan: check flight status and airport operations before you travel\u001b[0m\u001b[32;1m\u001b[1;3mI should also check if there are any train options available for traveling from Narowal to Swat.\n",
      "Action: duckduckgo_search\n",
      "Action Input: \"train options from Narowal to Swat Pakistan\"\u001b[0m\u001b[36;1m\u001b[1;3mNarowal Passenger is a Pakistani local passenger train managed by Pakistan Railways that between Narowal and Lahore via Pejowal, Riya Khas, Baddomalhi, Mehta Suja, Narang, Kala Khatai, Sri Rampura, Kot Mol Chand, Shahdara Bagh and Badami Bagh. ... Narang, Mehta Suja, Badmari, and Raya Kaz. did. gain. Pejowari and Narowal. This train takes only ... Karachi to Rahim Yar Khan is a popular route for train travelers in Pakistan, providing a convenient and cost-effective way to travel between these two cities. ... Pakistan Railways offers various train services with different ticket prices and seating options to suit all passengers. ... comment. Narowal Passenger Train Timings Fare & Online ... You can check the real-time status of the train on the Pakistan Railway website or app. Railway Timings Pakistan railway Timetable 2024. Pak Railway Time Table Today Narowal Passenger Train Up Train (Lahore to Narowal) Departure time from Lahore Cantt: 10:00 AM; Arrival time at Narowal Cantt: 12:10 PM; Down Train (Narowal to Lahore) 212 DN Narowal Passenger Train Timings Departure from Narowal Junction. The return trip on the 212 DN Narowal Passenger Train kicks off from Narowal Junction at 05:00 PM. Make sure to arrive early to avoid the evening rush and secure your spot. Pejowali Departure. The train stops at Pejowali at 05:12 PM, departing a minute later at 05:13 PM. Intercity Luxury Train Services in Pakistan. Pakistan offers a range of intercity train services, with Pakistan Railways at the forefront, along with several private companies providing luxury and express train options. Traveling by train is an affordable and comfortable way to journey between major cities.\u001b[0m\u001b[32;1m\u001b[1;3mI have found various transportation options including buses, flights, and trains for traveling from Narowal to Swat in Pakistan. Now I can provide the final answer.\n",
      "Final Answer: The ways to go from Narowal, Pakistan to Swat, Pakistan include taking a bus, driving a private car or renting a car, taking a flight, and taking a train.\u001b[0m\n",
      "\n",
      "\u001b[1m> Finished chain.\u001b[0m\n"
     ]
    },
    {
     "data": {
      "text/plain": [
       "{'input': 'write 5 ways to go from Narowal pakistan to Swat Pakistan',\n",
       " 'output': 'The ways to go from Narowal, Pakistan to Swat, Pakistan include taking a bus, driving a private car or renting a car, taking a flight, and taking a train.'}"
      ]
     },
     "execution_count": 15,
     "metadata": {},
     "output_type": "execute_result"
    }
   ],
   "source": [
    "response = Agent_Executor.invoke({\"input\": \"write 5 ways to go from Narowal pakistan to Swat Pakistan\"})\n",
    "response"
   ]
  },
  {
   "cell_type": "code",
   "execution_count": 16,
   "id": "96530d3f",
   "metadata": {},
   "outputs": [
    {
     "data": {
      "text/plain": [
       "'The ways to go from Narowal, Pakistan to Swat, Pakistan include taking a bus, driving a private car or renting a car, taking a flight, and taking a train.'"
      ]
     },
     "execution_count": 16,
     "metadata": {},
     "output_type": "execute_result"
    }
   ],
   "source": [
    "response[\"output\"]"
   ]
  }
 ],
 "metadata": {
  "kernelspec": {
   "display_name": "genai",
   "language": "python",
   "name": "python3"
  },
  "language_info": {
   "codemirror_mode": {
    "name": "ipython",
    "version": 3
   },
   "file_extension": ".py",
   "mimetype": "text/x-python",
   "name": "python",
   "nbconvert_exporter": "python",
   "pygments_lexer": "ipython3",
   "version": "3.9.21"
  }
 },
 "nbformat": 4,
 "nbformat_minor": 5
}
