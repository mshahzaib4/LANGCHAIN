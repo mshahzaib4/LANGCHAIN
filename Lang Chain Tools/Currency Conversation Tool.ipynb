{
 "cells": [
  {
   "cell_type": "code",
   "execution_count": 52,
   "id": "b5d387d4",
   "metadata": {},
   "outputs": [
    {
     "data": {
      "text/plain": [
       "True"
      ]
     },
     "execution_count": 52,
     "metadata": {},
     "output_type": "execute_result"
    }
   ],
   "source": [
    "from langchain_core.tools import tool, InjectedToolArg\n",
    "from langchain_openai import ChatOpenAI\n",
    "from langchain_core.messages import HumanMessage\n",
    "from typing import Annotated\n",
    "from dotenv import load_dotenv\n",
    "import requests\n",
    "load_dotenv()"
   ]
  },
  {
   "cell_type": "code",
   "execution_count": 53,
   "id": "958c839c",
   "metadata": {},
   "outputs": [],
   "source": [
    "@tool\n",
    "def get_CurrencyCon_Tool(base_Currency: str, target_Currency: str):\n",
    "    \"\"\"The function fetches the currency conversion factor between a given base currency and a target currency\"\"\"\n",
    "    #url = \" 3103c3c22f2f8a819d33470b\"\n",
    "    url = f'https://v6.exchangerate-api.com/v6/3103c3c22f2f8a819d33470b/pair/{base_Currency}/{target_Currency}'\n",
    "    response = requests.get(url)\n",
    "    return response.json()\n",
    "@tool \n",
    "def convert(base_Currency:float, conversion_rate: Annotated[float, InjectedToolArg])->float:\n",
    "    \"\"\"Given a currency conversion rate this function calculates the target currency from a given base currency value\"\"\"\n",
    "    return base_Currency*conversion_rate\n"
   ]
  },
  {
   "cell_type": "code",
   "execution_count": 54,
   "id": "cd001ad0",
   "metadata": {},
   "outputs": [
    {
     "data": {
      "text/plain": [
       "{'result': 'success',\n",
       " 'documentation': 'https://www.exchangerate-api.com/docs',\n",
       " 'terms_of_use': 'https://www.exchangerate-api.com/terms',\n",
       " 'time_last_update_unix': 1749513602,\n",
       " 'time_last_update_utc': 'Tue, 10 Jun 2025 00:00:02 +0000',\n",
       " 'time_next_update_unix': 1749600002,\n",
       " 'time_next_update_utc': 'Wed, 11 Jun 2025 00:00:02 +0000',\n",
       " 'base_code': 'USD',\n",
       " 'target_code': 'PKR',\n",
       " 'conversion_rate': 282.2975}"
      ]
     },
     "execution_count": 54,
     "metadata": {},
     "output_type": "execute_result"
    }
   ],
   "source": [
    "get_CurrencyCon_Tool.invoke({'base_Currency':\"USD\", \"target_Currency\": \"PKR\"})"
   ]
  },
  {
   "cell_type": "code",
   "execution_count": 55,
   "id": "438116c4",
   "metadata": {},
   "outputs": [
    {
     "data": {
      "text/plain": [
       "25.62"
      ]
     },
     "execution_count": 55,
     "metadata": {},
     "output_type": "execute_result"
    }
   ],
   "source": [
    "convert.invoke({\"base_Currency\": 12.2, \"conversion_rate\": 2.1})"
   ]
  },
  {
   "cell_type": "code",
   "execution_count": 56,
   "id": "b8e25066",
   "metadata": {},
   "outputs": [],
   "source": [
    "# tool Bending\n",
    "llm = ChatOpenAI()\n",
    "llmWith_Tools = llm.bind_tools([get_CurrencyCon_Tool, convert])"
   ]
  },
  {
   "cell_type": "code",
   "execution_count": 57,
   "id": "9774af50",
   "metadata": {},
   "outputs": [],
   "source": [
    "message = [HumanMessage(\"What is the conversion factor between USD and PKR, and Based on that can you convert 10 to PKR\")]"
   ]
  },
  {
   "cell_type": "code",
   "execution_count": 58,
   "id": "105f5ac3",
   "metadata": {},
   "outputs": [],
   "source": [
    "ai_message = llmWith_Tools.invoke(message)\n",
    "message.append(ai_message)"
   ]
  },
  {
   "cell_type": "code",
   "execution_count": 59,
   "id": "1803c0f0",
   "metadata": {},
   "outputs": [
    {
     "data": {
      "text/plain": [
       "[{'name': 'get_CurrencyCon_Tool',\n",
       "  'args': {'base_Currency': 'USD', 'target_Currency': 'PKR'},\n",
       "  'id': 'call_MUWd9rn7qilAMcSNTyKfcvyR',\n",
       "  'type': 'tool_call'},\n",
       " {'name': 'convert',\n",
       "  'args': {'base_Currency': 10},\n",
       "  'id': 'call_jv3uphgv7Ztadw2HSXt1WcZk',\n",
       "  'type': 'tool_call'}]"
      ]
     },
     "execution_count": 59,
     "metadata": {},
     "output_type": "execute_result"
    }
   ],
   "source": [
    "ai_message.tool_calls"
   ]
  },
  {
   "cell_type": "code",
   "execution_count": 60,
   "id": "21a130fb",
   "metadata": {},
   "outputs": [],
   "source": [
    "import json\n",
    "for tool_call in ai_message.tool_calls:\n",
    "    # Execute the first tool\n",
    "    if tool_call[\"name\"] == \"get_CurrencyCon_Tool\":\n",
    "        tool_message = get_CurrencyCon_Tool.invoke(tool_call)\n",
    "        conversion_rate = json.loads(tool_message.content)[\"conversion_rate\"]\n",
    "        message.append(tool_message)   \n",
    "    if tool_call[\"name\"] == \"convert\":\n",
    "        tool_call['args']['conversion_rate'] = conversion_rate\n",
    "        toolCall_message = convert.invoke(tool_call)   \n",
    "        message.append(toolCall_message)      \n",
    "        "
   ]
  },
  {
   "cell_type": "code",
   "execution_count": 63,
   "id": "22c967c1",
   "metadata": {},
   "outputs": [
    {
     "data": {
      "text/plain": [
       "'The conversion factor between USD and PKR is 282.2975. \\nTherefore, 10 USD is equivalent to 2822.98 PKR.'"
      ]
     },
     "execution_count": 63,
     "metadata": {},
     "output_type": "execute_result"
    }
   ],
   "source": [
    "llmWith_Tools.invoke(message).content"
   ]
  }
 ],
 "metadata": {
  "kernelspec": {
   "display_name": "genai",
   "language": "python",
   "name": "python3"
  },
  "language_info": {
   "codemirror_mode": {
    "name": "ipython",
    "version": 3
   },
   "file_extension": ".py",
   "mimetype": "text/x-python",
   "name": "python",
   "nbconvert_exporter": "python",
   "pygments_lexer": "ipython3",
   "version": "3.9.21"
  }
 },
 "nbformat": 4,
 "nbformat_minor": 5
}
