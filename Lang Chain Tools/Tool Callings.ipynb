{
 "cells": [
  {
   "cell_type": "code",
   "execution_count": 10,
   "id": "b799c65f",
   "metadata": {},
   "outputs": [
    {
     "data": {
      "text/plain": [
       "True"
      ]
     },
     "execution_count": 10,
     "metadata": {},
     "output_type": "execute_result"
    }
   ],
   "source": [
    "from langchain_openai import ChatOpenAI\n",
    "from langchain_core.tools import tool\n",
    "from langchain_core.messages import HumanMessage\n",
    "import requests\n",
    "from dotenv import load_dotenv\n",
    "load_dotenv()"
   ]
  },
  {
   "cell_type": "code",
   "execution_count": 11,
   "id": "2e39473b",
   "metadata": {},
   "outputs": [
    {
     "data": {
      "text/plain": [
       "10"
      ]
     },
     "execution_count": 11,
     "metadata": {},
     "output_type": "execute_result"
    }
   ],
   "source": [
    "@tool\n",
    "def sum(a:int,b:int)->int:\n",
    "    \"\"\"Sum of Two Numbers\"\"\"\n",
    "    return a+b\n",
    "\n",
    "sum.invoke({\"a\":5, \"b\":5})"
   ]
  },
  {
   "cell_type": "code",
   "execution_count": 12,
   "id": "8de60c87",
   "metadata": {},
   "outputs": [
    {
     "data": {
      "text/plain": [
       "RunnableBinding(bound=ChatOpenAI(client=<openai.resources.chat.completions.completions.Completions object at 0x000001FDB6B01D60>, async_client=<openai.resources.chat.completions.completions.AsyncCompletions object at 0x000001FDB6B01760>, root_client=<openai.OpenAI object at 0x000001FDB6B01B50>, root_async_client=<openai.AsyncOpenAI object at 0x000001FDB6B01FA0>, model_kwargs={}, openai_api_key=SecretStr('**********')), kwargs={'tools': [{'type': 'function', 'function': {'name': 'sum', 'description': 'Sum of Two Numbers', 'parameters': {'properties': {'a': {'type': 'integer'}, 'b': {'type': 'integer'}}, 'required': ['a', 'b'], 'type': 'object'}}}]}, config={}, config_factories=[])"
      ]
     },
     "execution_count": 12,
     "metadata": {},
     "output_type": "execute_result"
    }
   ],
   "source": [
    "# Tool Bending\n",
    "llm = ChatOpenAI()\n",
    "llm_with_tools = llm.bind_tools([sum])\n",
    "llm_with_tools"
   ]
  },
  {
   "cell_type": "code",
   "execution_count": 13,
   "id": "97ccce22",
   "metadata": {},
   "outputs": [
    {
     "name": "stdout",
     "output_type": "stream",
     "text": [
      "content='' additional_kwargs={'tool_calls': [{'id': 'call_Yp0zBRQnCjuBwgw3Kw4MB68o', 'function': {'arguments': '{\"a\":3,\"b\":3}', 'name': 'sum'}, 'type': 'function'}], 'refusal': None} response_metadata={'token_usage': {'completion_tokens': 17, 'prompt_tokens': 54, 'total_tokens': 71, 'completion_tokens_details': {'accepted_prediction_tokens': 0, 'audio_tokens': 0, 'reasoning_tokens': 0, 'rejected_prediction_tokens': 0}, 'prompt_tokens_details': {'audio_tokens': 0, 'cached_tokens': 0}}, 'model_name': 'gpt-3.5-turbo-0125', 'system_fingerprint': None, 'id': 'chatcmpl-Bgmnr0RDt9LNo2dta71ub5Otiihhv', 'service_tier': 'default', 'finish_reason': 'tool_calls', 'logprobs': None} id='run--99d172f4-07e4-423f-b092-6df428f7c254-0' tool_calls=[{'name': 'sum', 'args': {'a': 3, 'b': 3}, 'id': 'call_Yp0zBRQnCjuBwgw3Kw4MB68o', 'type': 'tool_call'}] usage_metadata={'input_tokens': 54, 'output_tokens': 17, 'total_tokens': 71, 'input_token_details': {'audio': 0, 'cache_read': 0}, 'output_token_details': {'audio': 0, 'reasoning': 0}}\n"
     ]
    }
   ],
   "source": [
    "query = HumanMessage('can you sum 3 and 3')\n",
    "messages = [query]\n",
    "result = llm_with_tools.invoke(messages)\n",
    "print(result)"
   ]
  },
  {
   "cell_type": "code",
   "execution_count": 18,
   "id": "afd9b938",
   "metadata": {},
   "outputs": [
    {
     "data": {
      "text/plain": [
       "{'name': 'sum',\n",
       " 'args': {'a': 3, 'b': 3},\n",
       " 'id': 'call_Yp0zBRQnCjuBwgw3Kw4MB68o',\n",
       " 'type': 'tool_call'}"
      ]
     },
     "execution_count": 18,
     "metadata": {},
     "output_type": "execute_result"
    }
   ],
   "source": [
    "result.tool_calls[0]"
   ]
  },
  {
   "cell_type": "code",
   "execution_count": 16,
   "id": "6a424a94",
   "metadata": {},
   "outputs": [
    {
     "data": {
      "text/plain": [
       "ToolMessage(content='6', name='sum', tool_call_id='call_Yp0zBRQnCjuBwgw3Kw4MB68o')"
      ]
     },
     "execution_count": 16,
     "metadata": {},
     "output_type": "execute_result"
    }
   ],
   "source": [
    "messages.append(result)\n",
    "tool_result = sum.invoke(result.tool_calls[0])\n",
    "tool_result"
   ]
  },
  {
   "cell_type": "code",
   "execution_count": null,
   "id": "8b054c06",
   "metadata": {},
   "outputs": [
    {
     "data": {
      "text/plain": [
       "'The sum of 3 and 3 is 6.'"
      ]
     },
     "execution_count": 20,
     "metadata": {},
     "output_type": "execute_result"
    }
   ],
   "source": [
    "messages.append(x)\n",
    "llm_with_tools.invoke(messages).content"
   ]
  }
 ],
 "metadata": {
  "kernelspec": {
   "display_name": "genai",
   "language": "python",
   "name": "python3"
  },
  "language_info": {
   "codemirror_mode": {
    "name": "ipython",
    "version": 3
   },
   "file_extension": ".py",
   "mimetype": "text/x-python",
   "name": "python",
   "nbconvert_exporter": "python",
   "pygments_lexer": "ipython3",
   "version": "3.9.21"
  }
 },
 "nbformat": 4,
 "nbformat_minor": 5
}
