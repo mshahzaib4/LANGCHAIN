{
 "cells": [
  {
   "cell_type": "code",
   "execution_count": null,
   "id": "17f02b55",
   "metadata": {},
   "outputs": [
    {
     "name": "stdout",
     "output_type": "stream",
     "text": [
      "\n",
      "\n",
      "1. Ginger\n",
      "2. Rufus\n",
      "3. Marmalade\n",
      "4. Fluffykins\n",
      "5. Simba\n",
      "6. Rusty\n",
      "7. Clementine\n",
      "8. Pumpkin\n",
      "9. Fuzz\n",
      "10. Sunny\n",
      "11. Blaze\n",
      "12. Cheeto\n",
      "13. Garfield\n",
      "14. Nemo\n",
      "15. Tangerine\n",
      "16. Furry\n",
      "17. Marigold\n",
      "18. Butterscotch\n",
      "19. Toffee\n",
      "20. Citrus.\n"
     ]
    }
   ],
   "source": [
    "from langchain.llms import OpenAI\n",
    "from dotenv import load_dotenv\n",
    "\n",
    "load_dotenv()\n",
    "llm = OpenAI()\n",
    "name = llm(\"I want a name for a cat that is orange and fluffy\")\n",
    "print(name)"
   ]
  },
  {
   "cell_type": "code",
   "execution_count": null,
   "id": "e1e9dd69",
   "metadata": {},
   "outputs": [
    {
     "name": "stdout",
     "output_type": "stream",
     "text": [
      "\n",
      "\n",
      "Ginger, Rufus, Marmalade, and Fluffykins were all beloved pets throughout history, each with their own unique story and personality. From royal cats like Simba and Rusty to iconic cartoon cats like Garfield and Nemo, these feline friends have left a lasting mark on our hearts and in popular culture. Meanwhile, names like Sunny, Blaze, and Marigold have been popular choices for cats, representing their fiery and playful nature, while Tangerine, Butterscotch, and Citrus evoke images of their vibrant and sweet personalities.\n"
     ]
    }
   ],
   "source": [
    "from langchain.llms import OpenAI\n",
    "from langchain.prompts import PromptTemplate\n",
    "from dotenv import load_dotenv\n",
    "load_dotenv()\n",
    "prompt = PromptTemplate(\n",
    "    input_variables=[\"Cat\"],\n",
    "    template=\"Write a short story about {name} the cat.\",\n",
    ")\n",
    "llm = OpenAI()\n",
    "story = llm(prompt.format(name=name))\n",
    "print(story)"
   ]
  }
 ],
 "metadata": {
  "kernelspec": {
   "display_name": "genai",
   "language": "python",
   "name": "python3"
  },
  "language_info": {
   "codemirror_mode": {
    "name": "ipython",
    "version": 3
   },
   "file_extension": ".py",
   "mimetype": "text/x-python",
   "name": "python",
   "nbconvert_exporter": "python",
   "pygments_lexer": "ipython3",
   "version": "3.9.21"
  }
 },
 "nbformat": 4,
 "nbformat_minor": 5
}
